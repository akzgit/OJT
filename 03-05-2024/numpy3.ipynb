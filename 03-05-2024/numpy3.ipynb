{
 "cells": [
  {
   "cell_type": "code",
   "execution_count": 1,
   "id": "e98060e6-2a75-47ac-a6a1-4163a872ec2e",
   "metadata": {},
   "outputs": [],
   "source": [
    "import numpy as np "
   ]
  },
  {
   "cell_type": "code",
   "execution_count": 2,
   "id": "423b3d0d-1926-407e-9214-919841c26237",
   "metadata": {},
   "outputs": [
    {
     "name": "stdout",
     "output_type": "stream",
     "text": [
      "Original array :  [1 2 3 4 5 6]\n"
     ]
    }
   ],
   "source": [
    "#create an riginal array\n",
    "original_array=np.array([1,2,3,4,5,6])\n",
    "print(\"Original array : \",original_array)"
   ]
  },
  {
   "cell_type": "code",
   "execution_count": 3,
   "id": "f202a5ba-8499-4a8e-9fc3-64efea8e3e37",
   "metadata": {},
   "outputs": [
    {
     "name": "stdout",
     "output_type": "stream",
     "text": [
      "view of the original array is : [1 2 3 4 5 6]\n"
     ]
    }
   ],
   "source": [
    "#create a view for the array\n",
    "view_array=original_array.view()\n",
    "print(\"view of the original array is :\",view_array)"
   ]
  },
  {
   "cell_type": "code",
   "execution_count": 5,
   "id": "01b5d56e-9a20-4eec-97c9-140132e85587",
   "metadata": {},
   "outputs": [
    {
     "name": "stdout",
     "output_type": "stream",
     "text": [
      "modified view of the array : [ 1  2 30  4  5  6]\n",
      "Original array after modifying the view :  [ 1  2 30  4  5  6]\n"
     ]
    }
   ],
   "source": [
    "view_array[2]=30\n",
    "print(\"modified view of the array :\",view_array)\n",
    "print(\"Original array after modifying the view : \",original_array)"
   ]
  },
  {
   "cell_type": "code",
   "execution_count": 6,
   "id": "973bb746-3517-4764-b878-1b338631454e",
   "metadata": {},
   "outputs": [
    {
     "name": "stdout",
     "output_type": "stream",
     "text": [
      "Copy array: [ 1  2 30  4  5  6]\n"
     ]
    }
   ],
   "source": [
    "#create a copy of the original array\n",
    "copy_array=original_array.copy()\n",
    "print(\"Copy array:\",copy_array)"
   ]
  },
  {
   "cell_type": "code",
   "execution_count": 7,
   "id": "56af7c30-be65-4938-a2ec-6e2a80eb3375",
   "metadata": {},
   "outputs": [
    {
     "name": "stdout",
     "output_type": "stream",
     "text": [
      "modified copy of the array : [10  2 30  4  5  6]\n",
      "Original array after modifying the copy :  [ 1  2 30  4  5  6]\n"
     ]
    }
   ],
   "source": [
    "#modify copy array\n",
    "copy_array[0]=10\n",
    "print(\"modified copy of the array :\",copy_array)\n",
    "print(\"Original array after modifying the copy : \",original_array)"
   ]
  },
  {
   "cell_type": "code",
   "execution_count": 8,
   "id": "d6134c67-e6b1-40fd-a585-f6da68bb1fe9",
   "metadata": {},
   "outputs": [
    {
     "name": "stdout",
     "output_type": "stream",
     "text": [
      "modified Original array : [  1   2  30 100   5   6]\n",
      "view of the array : [  1   2  30 100   5   6]\n",
      "Copy array: [10  2 30  4  5  6]\n"
     ]
    }
   ],
   "source": [
    "#modify original array\n",
    "original_array[3]=100\n",
    "print(\"modified Original array :\",original_array)\n",
    "print(\"view of the array :\",view_array)\n",
    "print(\"Copy array:\",copy_array)"
   ]
  },
  {
   "cell_type": "code",
   "execution_count": null,
   "id": "60d80aad-54b5-4b00-92a4-ee838f3b96d4",
   "metadata": {},
   "outputs": [],
   "source": []
  }
 ],
 "metadata": {
  "kernelspec": {
   "display_name": "Python 3 (ipykernel)",
   "language": "python",
   "name": "python3"
  },
  "language_info": {
   "codemirror_mode": {
    "name": "ipython",
    "version": 3
   },
   "file_extension": ".py",
   "mimetype": "text/x-python",
   "name": "python",
   "nbconvert_exporter": "python",
   "pygments_lexer": "ipython3",
   "version": "3.11.7"
  }
 },
 "nbformat": 4,
 "nbformat_minor": 5
}
