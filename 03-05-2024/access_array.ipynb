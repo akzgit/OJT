{
 "cells": [
  {
   "cell_type": "code",
   "execution_count": 1,
   "id": "78a35f91-81e5-4892-88c2-1dfac352619c",
   "metadata": {},
   "outputs": [],
   "source": [
    "import numpy as np"
   ]
  },
  {
   "cell_type": "code",
   "execution_count": 4,
   "id": "ce007bc7-b381-44d6-9381-714e7ae2294d",
   "metadata": {},
   "outputs": [
    {
     "name": "stdout",
     "output_type": "stream",
     "text": [
      "element aithe index of [1,2]:  6\n"
     ]
    }
   ],
   "source": [
    "array_2D=np.array([[1,2,3],[4,5,6]])\n",
    "\n",
    "#accessing a single element\n",
    "element=array_2D[1,2]\n",
    "print(\"element at the index of [1,2]: \",element)"
   ]
  },
  {
   "cell_type": "code",
   "execution_count": 5,
   "id": "dd5090bf-4ab7-4c82-a985-01d7331ffec9",
   "metadata": {},
   "outputs": [
    {
     "name": "stdout",
     "output_type": "stream",
     "text": [
      "element aithe index of [0,1]:  2\n"
     ]
    }
   ],
   "source": [
    "array_2D=np.array([[1,2,3],[4,5,6]])\n",
    "\n",
    "#accessing a single element\n",
    "element=array_2D[0,1]\n",
    "print(\"element at the index of [0,1]: \",element)"
   ]
  },
  {
   "cell_type": "code",
   "execution_count": 6,
   "id": "d855765a-b544-409c-9ff1-8938a30bfc26",
   "metadata": {},
   "outputs": [
    {
     "name": "stdout",
     "output_type": "stream",
     "text": [
      "element at the index of [0,1,1]:  5\n"
     ]
    }
   ],
   "source": [
    "array_3D = np.array([[[1, 2, 3], [4, 5, 6]], \n",
    "                     [[7, 8, 9], [10, 11, 12]], \n",
    "                     [[13, 14, 15], [16, 17, 18]]])\n",
    "#accessing a single element\n",
    "element=array_3D[0,1,1]\n",
    "print(\"element at the index of [0,1,1]: \",element)"
   ]
  },
  {
   "cell_type": "code",
   "execution_count": 10,
   "id": "ed3994cb-9591-4940-9234-b4c70bb20817",
   "metadata": {},
   "outputs": [
    {
     "name": "stdout",
     "output_type": "stream",
     "text": [
      "second row :  [4 5 6]\n"
     ]
    }
   ],
   "source": [
    "#Access 2nd row\n",
    "row= array_2D[1:]\n",
    "print(\"second row : \",row)"
   ]
  },
  {
   "cell_type": "code",
   "execution_count": 11,
   "id": "e6f48fbb-f2e7-4bd8-8b02-f7bfa4521e9d",
   "metadata": {},
   "outputs": [
    {
     "name": "stdout",
     "output_type": "stream",
     "text": [
      "second row :  [4 5 6]\n"
     ]
    }
   ],
   "source": [
    "#Access 2nd row\n",
    "row= array_2D[1,:]\n",
    "print(\"second row : \",row)"
   ]
  },
  {
   "cell_type": "code",
   "execution_count": 19,
   "id": "1276a06a-d9b1-49f0-8d71-180d561340e3",
   "metadata": {},
   "outputs": [
    {
     "name": "stdout",
     "output_type": "stream",
     "text": [
      "first row :  [[1 2 3]]\n"
     ]
    }
   ],
   "source": [
    "#Access 1st row\n",
    "row= array_2D[0:1]\n",
    "print(\"first row : \",row)"
   ]
  },
  {
   "cell_type": "code",
   "execution_count": 9,
   "id": "c1441f79-db15-4f63-8ad9-b339f306f65d",
   "metadata": {},
   "outputs": [
    {
     "name": "stdout",
     "output_type": "stream",
     "text": [
      "first row :  [1 2 3]\n"
     ]
    }
   ],
   "source": [
    "#Access 1st row\n",
    "row= array_2D[0,:]\n",
    "print(\"first row : \",row)"
   ]
  },
  {
   "cell_type": "code",
   "execution_count": 13,
   "id": "c8a7ea8e-b1e6-44eb-8fb1-d20a00ee1a1e",
   "metadata": {},
   "outputs": [
    {
     "name": "stdout",
     "output_type": "stream",
     "text": [
      "2nd column :  [2 5]\n"
     ]
    }
   ],
   "source": [
    "#Access 2nd column\n",
    "column= array_2D[:,1]\n",
    "print(\"2nd column : \",column)"
   ]
  },
  {
   "cell_type": "code",
   "execution_count": 21,
   "id": "2713e8f9-62f4-43cf-a172-db426bf4e963",
   "metadata": {},
   "outputs": [
    {
     "name": "stdout",
     "output_type": "stream",
     "text": [
      "subarray :  [[2 3]\n",
      " [5 6]]\n"
     ]
    }
   ],
   "source": [
    "#slicing\n",
    "#access the subarray with row of 0 and 1,column of 1 and 2\n",
    "slice_array=array_2D[0:2,1:3]\n",
    "print(\"subarray : \",slice_array)"
   ]
  },
  {
   "cell_type": "code",
   "execution_count": null,
   "id": "6d7baf1a-d110-4c29-8157-45a2331a0fa2",
   "metadata": {},
   "outputs": [],
   "source": []
  }
 ],
 "metadata": {
  "kernelspec": {
   "display_name": "Python 3 (ipykernel)",
   "language": "python",
   "name": "python3"
  },
  "language_info": {
   "codemirror_mode": {
    "name": "ipython",
    "version": 3
   },
   "file_extension": ".py",
   "mimetype": "text/x-python",
   "name": "python",
   "nbconvert_exporter": "python",
   "pygments_lexer": "ipython3",
   "version": "3.11.7"
  }
 },
 "nbformat": 4,
 "nbformat_minor": 5
}
