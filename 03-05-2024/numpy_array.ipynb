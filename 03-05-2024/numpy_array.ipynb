{
 "cells": [
  {
   "cell_type": "code",
   "execution_count": 1,
   "id": "7e5ed12f-a7d7-4161-9657-b2dd9846b0c0",
   "metadata": {},
   "outputs": [
    {
     "name": "stdout",
     "output_type": "stream",
     "text": [
      "Defaulting to user installation because normal site-packages is not writeable\n",
      "Requirement already satisfied: numpy in c:\\programdata\\anaconda3\\lib\\site-packages (1.26.4)\n",
      "Note: you may need to restart the kernel to use updated packages.\n"
     ]
    }
   ],
   "source": [
    "pip install numpy"
   ]
  },
  {
   "cell_type": "code",
   "execution_count": 2,
   "id": "c8afdac2-f0c5-48fd-bfc6-eacbc656517e",
   "metadata": {},
   "outputs": [],
   "source": [
    "import numpy as np\n"
   ]
  },
  {
   "cell_type": "code",
   "execution_count": 4,
   "id": "ad110b4f-773e-49e9-a6ab-dc475bbd02ad",
   "metadata": {},
   "outputs": [
    {
     "name": "stdout",
     "output_type": "stream",
     "text": [
      "1D Array : [1 2 3 4 5]\n"
     ]
    }
   ],
   "source": [
    "#create an 1D array\n",
    "array_1D=np.array([1,2,3,4,5])\n",
    "print(\"1D Array :\",array_1D)"
   ]
  },
  {
   "cell_type": "code",
   "execution_count": 8,
   "id": "9e824beb-fbf1-443b-9d21-12857f0b27f3",
   "metadata": {},
   "outputs": [
    {
     "name": "stdout",
     "output_type": "stream",
     "text": [
      "2D Array : [[ 1  2  3  4  5]\n",
      " [ 6  7  8  9 10]]\n"
     ]
    }
   ],
   "source": [
    "#create an 2D array\n",
    "array_2D=np.array([[1,2,3,4,5],[6,7,8,9,10]])\n",
    "print(\"2D Array :\",array_2D)"
   ]
  },
  {
   "cell_type": "code",
   "execution_count": 10,
   "id": "2eb01469-c54d-4e4f-9230-b8d3622d84b9",
   "metadata": {},
   "outputs": [
    {
     "name": "stdout",
     "output_type": "stream",
     "text": [
      "3D Array :\n",
      " [[[ 1  2  3]\n",
      "  [ 4  5  6]]\n",
      "\n",
      " [[ 7  8  9]\n",
      "  [10 11 12]]\n",
      "\n",
      " [[13 14 15]\n",
      "  [16 17 18]]]\n"
     ]
    }
   ],
   "source": [
    "#create a 3D array\n",
    "array_3D = np.array([[[1, 2, 3], [4, 5, 6]], \n",
    "                     [[7, 8, 9], [10, 11, 12]], \n",
    "                     [[13, 14, 15], [16, 17, 18]]])\n",
    "print(\"3D Array :\\n\",array_3D)"
   ]
  },
  {
   "cell_type": "code",
   "execution_count": 11,
   "id": "e87a04de-aa74-45c7-ada7-d0f9c7bae814",
   "metadata": {},
   "outputs": [
    {
     "name": "stdout",
     "output_type": "stream",
     "text": [
      "Array with ones:\n",
      " [[1. 1. 1. 1.]\n",
      " [1. 1. 1. 1.]]\n"
     ]
    }
   ],
   "source": [
    "#create an array with ones\n",
    "array_ones=np.ones((2,4))\n",
    "print(\"Array with ones:\\n\",array_ones)"
   ]
  },
  {
   "cell_type": "code",
   "execution_count": 13,
   "id": "4f972693-a2e9-4294-bafa-048e276ce5b1",
   "metadata": {},
   "outputs": [
    {
     "name": "stdout",
     "output_type": "stream",
     "text": [
      "Array with ones:\n",
      " [[[0. 0. 0.]\n",
      "  [0. 0. 0.]\n",
      "  [0. 0. 0.]]\n",
      "\n",
      " [[0. 0. 0.]\n",
      "  [0. 0. 0.]\n",
      "  [0. 0. 0.]]\n",
      "\n",
      " [[0. 0. 0.]\n",
      "  [0. 0. 0.]\n",
      "  [0. 0. 0.]]]\n"
     ]
    }
   ],
   "source": [
    "##create an array with zeros\n",
    "array_zeros=np.zeros((3,3,3))\n",
    "print(\"Array with ones:\\n\",array_zeros)"
   ]
  },
  {
   "cell_type": "code",
   "execution_count": 14,
   "id": "36dc0b76-fce6-4606-95ab-499b35a200c7",
   "metadata": {},
   "outputs": [
    {
     "name": "stdout",
     "output_type": "stream",
     "text": [
      "array with a range:\n",
      " [0 1 2 3 4 5 6 7 8 9]\n"
     ]
    }
   ],
   "source": [
    "#array with a particular range\n",
    "array_range=np.arange(10)\n",
    "print(\"array with a range:\\n\",array_range)"
   ]
  },
  {
   "cell_type": "code",
   "execution_count": null,
   "id": "f73336e3-179c-44d4-adb2-c871174e8c85",
   "metadata": {},
   "outputs": [],
   "source": []
  }
 ],
 "metadata": {
  "kernelspec": {
   "display_name": "Python 3 (ipykernel)",
   "language": "python",
   "name": "python3"
  },
  "language_info": {
   "codemirror_mode": {
    "name": "ipython",
    "version": 3
   },
   "file_extension": ".py",
   "mimetype": "text/x-python",
   "name": "python",
   "nbconvert_exporter": "python",
   "pygments_lexer": "ipython3",
   "version": "3.11.7"
  }
 },
 "nbformat": 4,
 "nbformat_minor": 5
}
