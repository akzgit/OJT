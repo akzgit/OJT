{
 "cells": [
  {
   "cell_type": "code",
   "execution_count": 1,
   "id": "93b2af2a-4aa6-4c93-98c0-fe6e356b4817",
   "metadata": {},
   "outputs": [
    {
     "name": "stdout",
     "output_type": "stream",
     "text": [
      "Number of non-zero values: 4\n"
     ]
    }
   ],
   "source": [
    "import numpy as np\n",
    "\n",
    "# Example array\n",
    "arr = np.array([0, 1, 2, 0, 3, 0, 4])\n",
    "\n",
    "# Count non-zero values\n",
    "non_zero_count = np.count_nonzero(arr)\n",
    "print(f\"Number of non-zero values: {non_zero_count}\")\n"
   ]
  },
  {
   "cell_type": "code",
   "execution_count": 2,
   "id": "24104015-4389-4eba-b3b1-3936df487aa1",
   "metadata": {},
   "outputs": [
    {
     "name": "stdout",
     "output_type": "stream",
     "text": [
      "Empty array:\n",
      "[[6.23042070e-307 4.67296746e-307 1.69121096e-306]\n",
      " [6.23047842e-307 2.22526399e-307 6.23053614e-307]\n",
      " [7.56592338e-307 9.34588061e-307 3.62651150e-317]]\n",
      "\n",
      "Full array:\n",
      "[[7 7 7]\n",
      " [7 7 7]\n",
      " [7 7 7]]\n"
     ]
    }
   ],
   "source": [
    "# Create an empty array of shape (3, 3)\n",
    "empty_array = np.empty((3, 3))\n",
    "print(\"Empty array:\")\n",
    "print(empty_array)\n",
    "\n",
    "# Create a full array of shape (3, 3) with all elements as 7\n",
    "full_array = np.full((3, 3), 7)\n",
    "print(\"\\nFull array:\")\n",
    "print(full_array)\n"
   ]
  },
  {
   "cell_type": "code",
   "execution_count": 3,
   "id": "2c7eb01c-a5a4-4ddf-ace1-158e937bde4a",
   "metadata": {},
   "outputs": [
    {
     "name": "stdout",
     "output_type": "stream",
     "text": [
      "Number of rows: 3\n",
      "Number of columns: 3\n"
     ]
    }
   ],
   "source": [
    "# Example matrix\n",
    "matrix = np.array([[1, 2, 3], [4, 5, 6], [7, 8, 9]])\n",
    "\n",
    "# Get the number of rows and columns\n",
    "rows, cols = matrix.shape\n",
    "print(f\"Number of rows: {rows}\")\n",
    "print(f\"Number of columns: {cols}\")\n"
   ]
  },
  {
   "cell_type": "code",
   "execution_count": 4,
   "id": "5008913b-531c-45f6-87e8-88910a3c53f5",
   "metadata": {},
   "outputs": [
    {
     "name": "stdout",
     "output_type": "stream",
     "text": [
      "Sum of values in the matrix: 45\n"
     ]
    }
   ],
   "source": [
    "# Example matrix\n",
    "matrix = np.array([[1, 2, 3], [4, 5, 6], [7, 8, 9]])\n",
    "\n",
    "# Sum of all values in the matrix\n",
    "matrix_sum = np.sum(matrix)\n",
    "print(f\"Sum of values in the matrix: {matrix_sum}\")\n"
   ]
  },
  {
   "cell_type": "code",
   "execution_count": 5,
   "id": "071a35ae-8613-4658-894e-0befb32e6c3a",
   "metadata": {},
   "outputs": [
    {
     "name": "stdout",
     "output_type": "stream",
     "text": [
      "Sum of diagonal elements (3x3): 15\n",
      "Sum of diagonal elements (4x4): 34\n"
     ]
    }
   ],
   "source": [
    "# Example 3x3 matrix\n",
    "matrix_3x3 = np.array([[1, 2, 3], [4, 5, 6], [7, 8, 9]])\n",
    "diagonal_sum_3x3 = np.trace(matrix_3x3)\n",
    "print(f\"Sum of diagonal elements (3x3): {diagonal_sum_3x3}\")\n",
    "\n",
    "# Example 4x4 matrix\n",
    "matrix_4x4 = np.array([[1, 2, 3, 4], [5, 6, 7, 8], [9, 10, 11, 12], [13, 14, 15, 16]])\n",
    "diagonal_sum_4x4 = np.trace(matrix_4x4)\n",
    "print(f\"Sum of diagonal elements (4x4): {diagonal_sum_4x4}\")\n"
   ]
  },
  {
   "cell_type": "code",
   "execution_count": 6,
   "id": "1765121a-22ec-4e83-adde-4f62daffa62e",
   "metadata": {},
   "outputs": [
    {
     "name": "stdout",
     "output_type": "stream",
     "text": [
      "Inverse of the matrix:\n",
      "[[-2.   1. ]\n",
      " [ 1.5 -0.5]]\n"
     ]
    }
   ],
   "source": [
    "# Example matrix\n",
    "matrix = np.array([[1, 2], [3, 4]])\n",
    "\n",
    "# Inverse of the matrix\n",
    "matrix_inverse = np.linalg.inv(matrix)\n",
    "print(\"Inverse of the matrix:\")\n",
    "print(matrix_inverse)\n"
   ]
  },
  {
   "cell_type": "code",
   "execution_count": 7,
   "id": "75b7795e-0ade-4b9e-a44a-9b30a30184b9",
   "metadata": {},
   "outputs": [
    {
     "name": "stdout",
     "output_type": "stream",
     "text": [
      "Matrix multiplication result:\n",
      "[[19 22]\n",
      " [43 50]]\n"
     ]
    }
   ],
   "source": [
    "# Example matrices\n",
    "matrix_a = np.array([[1, 2], [3, 4]])\n",
    "matrix_b = np.array([[5, 6], [7, 8]])\n",
    "\n",
    "# Matrix multiplication\n",
    "matrix_product = np.dot(matrix_a, matrix_b)\n",
    "print(\"Matrix multiplication result:\")\n",
    "print(matrix_product)\n"
   ]
  },
  {
   "cell_type": "code",
   "execution_count": 8,
   "id": "6a404387-c6a6-4f8a-8458-7208875d27d6",
   "metadata": {},
   "outputs": [
    {
     "name": "stdout",
     "output_type": "stream",
     "text": [
      "Maximum value: 9\n",
      "Minimum value: 1\n"
     ]
    }
   ],
   "source": [
    "# Example matrix\n",
    "matrix = np.array([[1, 2, 3], [4, 5, 6], [7, 8, 9]])\n",
    "\n",
    "# Maximum value\n",
    "max_value = np.max(matrix)\n",
    "print(f\"Maximum value: {max_value}\")\n",
    "\n",
    "# Minimum value\n",
    "min_value = np.min(matrix)\n",
    "print(f\"Minimum value: {min_value}\")\n"
   ]
  },
  {
   "cell_type": "code",
   "execution_count": 9,
   "id": "06c95e01-8dd3-45d3-95c3-ba8879c0ba0c",
   "metadata": {},
   "outputs": [
    {
     "name": "stdout",
     "output_type": "stream",
     "text": [
      "Sum of matrices:\n",
      "[[ 6  8]\n",
      " [10 12]]\n",
      "Difference of matrices:\n",
      "[[-4 -4]\n",
      " [-4 -4]]\n"
     ]
    }
   ],
   "source": [
    "# Example matrices\n",
    "matrix_a = np.array([[1, 2], [3, 4]])\n",
    "matrix_b = np.array([[5, 6], [7, 8]])\n",
    "\n",
    "# Adding matrices\n",
    "matrix_sum = np.add(matrix_a, matrix_b)\n",
    "print(\"Sum of matrices:\")\n",
    "print(matrix_sum)\n",
    "\n",
    "# Subtracting matrices\n",
    "matrix_diff = np.subtract(matrix_a, matrix_b)\n",
    "print(\"Difference of matrices:\")\n",
    "print(matrix_diff)\n"
   ]
  },
  {
   "cell_type": "code",
   "execution_count": 10,
   "id": "4bb0b494-a5a8-4668-b52c-9287e0b1df0f",
   "metadata": {},
   "outputs": [
    {
     "name": "stdout",
     "output_type": "stream",
     "text": [
      "Frequency of unique values:\n",
      "{1: 1, 2: 2, 3: 3, 4: 4}\n"
     ]
    }
   ],
   "source": [
    "# Example array\n",
    "arr = np.array([1, 2, 2, 3, 3, 3, 4, 4, 4, 4])\n",
    "\n",
    "# Count frequency of unique values\n",
    "unique, counts = np.unique(arr, return_counts=True)\n",
    "frequency = dict(zip(unique, counts))\n",
    "print(\"Frequency of unique values:\")\n",
    "print(frequency)\n"
   ]
  },
  {
   "cell_type": "code",
   "execution_count": null,
   "id": "5f66c14e-1b01-4c32-a8d9-20d8aa50a5f0",
   "metadata": {},
   "outputs": [],
   "source": []
  }
 ],
 "metadata": {
  "kernelspec": {
   "display_name": "Python 3 (ipykernel)",
   "language": "python",
   "name": "python3"
  },
  "language_info": {
   "codemirror_mode": {
    "name": "ipython",
    "version": 3
   },
   "file_extension": ".py",
   "mimetype": "text/x-python",
   "name": "python",
   "nbconvert_exporter": "python",
   "pygments_lexer": "ipython3",
   "version": "3.11.7"
  }
 },
 "nbformat": 4,
 "nbformat_minor": 5
}
