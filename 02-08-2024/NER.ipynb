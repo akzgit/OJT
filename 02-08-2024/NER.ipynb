{
 "cells": [
  {
   "cell_type": "code",
   "execution_count": 6,
   "metadata": {},
   "outputs": [
    {
     "name": "stderr",
     "output_type": "stream",
     "text": [
      "[nltk_data] Downloading package punkt to\n",
      "[nltk_data]     C:\\Users\\akash\\AppData\\Roaming\\nltk_data...\n",
      "[nltk_data]   Unzipping tokenizers\\punkt.zip.\n"
     ]
    },
    {
     "data": {
      "text/plain": [
       "True"
      ]
     },
     "execution_count": 6,
     "metadata": {},
     "output_type": "execute_result"
    }
   ],
   "source": [
    "import nltk\n",
    "nltk.download('punkt') "
   ]
  },
  {
   "cell_type": "code",
   "execution_count": 7,
   "metadata": {},
   "outputs": [],
   "source": [
    "import re\n",
    "import nltk\n",
    "from nltk.tokenize import word_tokenize"
   ]
  },
  {
   "cell_type": "code",
   "execution_count": 11,
   "metadata": {},
   "outputs": [],
   "source": [
    "# Sample text\n",
    "text = \"Sam Altman is the CEO of OpenAI. He lives in San Francisco.\""
   ]
  },
  {
   "cell_type": "code",
   "execution_count": 9,
   "metadata": {},
   "outputs": [],
   "source": [
    "# Lexicons for different entity types\n",
    "person_lexicon = {\"Sam Altman\", \"Alice\", \"Bob\"}\n",
    "organization_lexicon = {\"OpenAI\", \"Google\", \"Microsoft\"}\n",
    "location_lexicon = {\"San Francisco\", \"New York\", \"Los Angeles\"}"
   ]
  },
  {
   "cell_type": "code",
   "execution_count": 12,
   "metadata": {},
   "outputs": [
    {
     "name": "stdout",
     "output_type": "stream",
     "text": [
      "Lexicon-based NER:\n",
      "[('OpenAI', 'ORG')]\n"
     ]
    }
   ],
   "source": [
    "def lexicon_based_ner(text):\n",
    "    entities = []\n",
    "    tokens = word_tokenize(text)\n",
    "    for token in tokens:\n",
    "        if token in person_lexicon:\n",
    "            entities.append((token, \"PERSON\"))\n",
    "        elif token in organization_lexicon:\n",
    "            entities.append((token, \"ORG\"))\n",
    "        elif token in location_lexicon:\n",
    "            entities.append((token, \"LOC\"))\n",
    "    return entities\n",
    "\n",
    "print(\"Lexicon-based NER:\")\n",
    "print(lexicon_based_ner(text))"
   ]
  }
 ],
 "metadata": {
  "kernelspec": {
   "display_name": "Python 3",
   "language": "python",
   "name": "python3"
  },
  "language_info": {
   "codemirror_mode": {
    "name": "ipython",
    "version": 3
   },
   "file_extension": ".py",
   "mimetype": "text/x-python",
   "name": "python",
   "nbconvert_exporter": "python",
   "pygments_lexer": "ipython3",
   "version": "3.12.4"
  }
 },
 "nbformat": 4,
 "nbformat_minor": 2
}
