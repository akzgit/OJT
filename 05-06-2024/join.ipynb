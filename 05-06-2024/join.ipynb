{
 "cells": [
  {
   "cell_type": "code",
   "execution_count": 3,
   "id": "0ccbc9fb-87e0-4712-85a1-70bb64c68b7d",
   "metadata": {},
   "outputs": [
    {
     "name": "stdout",
     "output_type": "stream",
     "text": [
      "concat_array: [1 2 3 4 5 6]\n"
     ]
    }
   ],
   "source": [
    "import numpy as np\n",
    "array1=np.array([1,2,3])\n",
    "array2=np.array([4,5,6])\n",
    "\n",
    "concat_array=np.concatenate((array1,array2))\n",
    "print(\"concat_array:\",concat_array)"
   ]
  },
  {
   "cell_type": "code",
   "execution_count": 7,
   "id": "35efb3fb-8e89-4327-b22e-327fa6e6f55f",
   "metadata": {},
   "outputs": [
    {
     "name": "stdout",
     "output_type": "stream",
     "text": [
      "[[ 1  2  3]\n",
      " [ 4  5  6]\n",
      " [ 7  8  9]\n",
      " [10 11 12]\n",
      " [13 14 15]]\n"
     ]
    }
   ],
   "source": [
    "array2d_1=np.array([[1,2,3],[4,5,6]])\n",
    "array2d_2=np.array([[7,8,9],[10,11,12],[13,14,15]])\n",
    "v = np.vstack((array2d_1,array2d_2))\n",
    "print(v)"
   ]
  },
  {
   "cell_type": "code",
   "execution_count": 12,
   "id": "0a4cf001-27ba-4206-94a7-42d4cd5f5e7e",
   "metadata": {},
   "outputs": [
    {
     "name": "stdout",
     "output_type": "stream",
     "text": [
      "[[ 1  2  3  7  8  9]\n",
      " [ 4  5  6 10 11 12]]\n"
     ]
    }
   ],
   "source": [
    "array2d_1=np.array([[1,2,3],[4,5,6]])\n",
    "array2d_2=np.array([[7,8,9],[10,11,12]])\n",
    "h = np.hstack((array2d_1,array2d_2))\n",
    "print(h)"
   ]
  },
  {
   "cell_type": "code",
   "execution_count": null,
   "id": "15076ff8-c5f9-421b-b5b2-7423d34e9d61",
   "metadata": {},
   "outputs": [],
   "source": []
  }
 ],
 "metadata": {
  "kernelspec": {
   "display_name": "Python 3 (ipykernel)",
   "language": "python",
   "name": "python3"
  },
  "language_info": {
   "codemirror_mode": {
    "name": "ipython",
    "version": 3
   },
   "file_extension": ".py",
   "mimetype": "text/x-python",
   "name": "python",
   "nbconvert_exporter": "python",
   "pygments_lexer": "ipython3",
   "version": "3.11.7"
  }
 },
 "nbformat": 4,
 "nbformat_minor": 5
}
