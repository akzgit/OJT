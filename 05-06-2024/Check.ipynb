{
 "cells": [
  {
   "cell_type": "code",
   "execution_count": 7,
   "id": "275ae045-4f57-4f24-a014-c8454a369fa5",
   "metadata": {},
   "outputs": [
    {
     "name": "stdout",
     "output_type": "stream",
     "text": [
      "(array([1, 5], dtype=int64),)\n",
      "[20 17]\n"
     ]
    }
   ],
   "source": [
    "import numpy as np\n",
    "\n",
    "array=np.array([10,20,12,15,14,17])\n",
    "#np.where(array==20)\n",
    "#where():use to check the particular condition for filter and condition\n",
    "\n",
    "#element greater than 15 for the above array\n",
    "\n",
    "elements= np.where(array>15)\n",
    "print(elements)\n",
    "print(array[elements])"
   ]
  },
  {
   "cell_type": "code",
   "execution_count": 11,
   "id": "e0b12ded-395a-46a3-85ba-a6ad05be7f6c",
   "metadata": {},
   "outputs": [
    {
     "name": "stdout",
     "output_type": "stream",
     "text": [
      "[10  0 12 15 14  0]\n"
     ]
    }
   ],
   "source": [
    "elements= np.where(array>15,0,array)\n",
    "print(elements)"
   ]
  },
  {
   "cell_type": "code",
   "execution_count": null,
   "id": "565c741e-cf06-48ac-b718-d5654b34d855",
   "metadata": {},
   "outputs": [],
   "source": [
    "elements= np.where(array)"
   ]
  }
 ],
 "metadata": {
  "kernelspec": {
   "display_name": "Python 3 (ipykernel)",
   "language": "python",
   "name": "python3"
  },
  "language_info": {
   "codemirror_mode": {
    "name": "ipython",
    "version": 3
   },
   "file_extension": ".py",
   "mimetype": "text/x-python",
   "name": "python",
   "nbconvert_exporter": "python",
   "pygments_lexer": "ipython3",
   "version": "3.11.7"
  }
 },
 "nbformat": 4,
 "nbformat_minor": 5
}
