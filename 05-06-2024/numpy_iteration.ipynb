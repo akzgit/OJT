{
 "cells": [
  {
   "cell_type": "code",
   "execution_count": 5,
   "id": "b86cacf3-07d8-46d1-be6d-16786c296f7e",
   "metadata": {},
   "outputs": [
    {
     "name": "stdout",
     "output_type": "stream",
     "text": [
      "Array_1d:  [1 2 3 4 5 6]\n",
      "1\n",
      "2\n",
      "3\n",
      "4\n",
      "5\n",
      "6\n"
     ]
    }
   ],
   "source": [
    "import numpy as np\n",
    "#iterations\n",
    "import numpy as np\n",
    "#for-in loop\n",
    "#1d Array\n",
    "array_1d =np.array([1,2,3,4,5,6])\n",
    "#iterate the elements in this array\n",
    "print(\"Array_1d: \", array_1d)\n",
    "\n",
    "for elements in array_1d:\n",
    "   print(elements)\n",
    "\n",
    "\n"
   ]
  },
  {
   "cell_type": "code",
   "execution_count": 14,
   "id": "57e1043d-f09e-47da-bcbc-616e3ace5ea5",
   "metadata": {},
   "outputs": [
    {
     "name": "stdout",
     "output_type": "stream",
     "text": [
      "2D array: [[1 2 3]\n",
      " [4 5 6]\n",
      " [7 8 9]]\n",
      "\n",
      "\n",
      "[1 2 3]\n",
      "1\n",
      "2\n",
      "3\n",
      "[4 5 6]\n",
      "4\n",
      "5\n",
      "6\n",
      "[7 8 9]\n",
      "7\n",
      "8\n",
      "9\n"
     ]
    }
   ],
   "source": [
    "array_2D=np.array([[1,2,3],[4,5,6],[7,8,9]])\n",
    "print(\"2D array:\", array_2D)\n",
    "print(\"\\n\")\n",
    "#iterate 2D array\n",
    "for rows in array_2D:\n",
    "    print(rows)\n",
    "    for elements in rows: \n",
    "         print(elements)\n"
   ]
  },
  {
   "cell_type": "code",
   "execution_count": 15,
   "id": "3b70474d-033a-4710-9bae-4828f6083d6b",
   "metadata": {},
   "outputs": [
    {
     "name": "stdout",
     "output_type": "stream",
     "text": [
      "1\n",
      "2\n",
      "3\n",
      "4\n",
      "5\n",
      "6\n",
      "7\n",
      "8\n",
      "9\n"
     ]
    }
   ],
   "source": [
    "for elements in np.nditer(array_2D): \n",
    "    print(elements)"
   ]
  },
  {
   "cell_type": "code",
   "execution_count": 17,
   "id": "24f1f2b8-3070-493f-b45a-51aebc8cac8b",
   "metadata": {},
   "outputs": [
    {
     "name": "stdout",
     "output_type": "stream",
     "text": [
      "Index: (0, 0), Element 1\n",
      "Index: (0, 1), Element 2\n",
      "Index: (0, 2), Element 3\n",
      "Index: (1, 0), Element 4\n",
      "Index: (1, 1), Element 5\n",
      "Index: (1, 2), Element 6\n",
      "Index: (2, 0), Element 7\n",
      "Index: (2, 1), Element 8\n",
      "Index: (2, 2), Element 9\n"
     ]
    }
   ],
   "source": [
    "#iterate the elemnts with index\n",
    "for index, element in np.ndenumerate(array_2D):\n",
    "     print(f\"Index: {index}, Element {element}\")"
   ]
  },
  {
   "cell_type": "code",
   "execution_count": null,
   "id": "44075b33-6678-4eae-8a1b-d6f9afc4a5bc",
   "metadata": {},
   "outputs": [],
   "source": []
  }
 ],
 "metadata": {
  "kernelspec": {
   "display_name": "Python 3 (ipykernel)",
   "language": "python",
   "name": "python3"
  },
  "language_info": {
   "codemirror_mode": {
    "name": "ipython",
    "version": 3
   },
   "file_extension": ".py",
   "mimetype": "text/x-python",
   "name": "python",
   "nbconvert_exporter": "python",
   "pygments_lexer": "ipython3",
   "version": "3.11.7"
  }
 },
 "nbformat": 4,
 "nbformat_minor": 5
}
