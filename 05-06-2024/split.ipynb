{
 "cells": [
  {
   "cell_type": "code",
   "execution_count": 2,
   "id": "ef4fc0ae-ff8f-45da-b35a-1b5e9fcae8f6",
   "metadata": {},
   "outputs": [
    {
     "name": "stdout",
     "output_type": "stream",
     "text": [
      "original array: [1 2 3 4 5 6 7 8 9]\n",
      "split array: [array([1, 2, 3]), array([4, 5, 6]), array([7, 8, 9])]\n"
     ]
    }
   ],
   "source": [
    "import numpy as np\n",
    "#split in numpy\n",
    "\n",
    "array =np.array([1,2,3,4,5,6,7,8,9])\n",
    "\n",
    "split_array=np.split(array,3)\n",
    "print(\"original array:\",array)\n",
    "print(\"split array:\",split_array)"
   ]
  },
  {
   "cell_type": "code",
   "execution_count": 3,
   "id": "f1b1defa-a1ad-41d8-bc1e-892da94f3b16",
   "metadata": {},
   "outputs": [
    {
     "name": "stdout",
     "output_type": "stream",
     "text": [
      "[[ 1  2  3]\n",
      " [ 4  5  6]\n",
      " [ 7  8  9]\n",
      " [10 11 12]]\n",
      "vsplited array:  [array([[1, 2, 3],\n",
      "       [4, 5, 6]]), array([[ 7,  8,  9],\n",
      "       [10, 11, 12]])]\n"
     ]
    }
   ],
   "source": [
    "#multi dimentional\n",
    "#horziontally and vertically\n",
    "array_2d = np.array([[1,2,3], [4,5,6,], [7,8,9], [10,11,12]])\n",
    "print(array_2d)\n",
    "vsplit_array = np.vsplit(array_2d, 2)\n",
    "print(\"vsplited array: \", vsplit_array)"
   ]
  },
  {
   "cell_type": "code",
   "execution_count": 7,
   "id": "f803be08-5b08-46e4-9102-6c26ebca58ee",
   "metadata": {},
   "outputs": [
    {
     "name": "stdout",
     "output_type": "stream",
     "text": [
      "hsplited array: \n",
      " [array([[ 1],\n",
      "       [ 4],\n",
      "       [ 7],\n",
      "       [10]]), array([[ 2],\n",
      "       [ 5],\n",
      "       [ 8],\n",
      "       [11]]), array([[ 3],\n",
      "       [ 6],\n",
      "       [ 9],\n",
      "       [12]])]\n"
     ]
    }
   ],
   "source": [
    "# array_2d = np.array([[1,2,3], [4,5,6,]])\n",
    "hsplit_array = np.hsplit(array_2d, 3)\n",
    "print(\"hsplited array: \\n\", hsplit_array)"
   ]
  },
  {
   "cell_type": "code",
   "execution_count": null,
   "id": "4041e6b6-097b-436d-85c3-726ad4c04462",
   "metadata": {},
   "outputs": [],
   "source": [
    "array_2d=np.array([[1,2,3],[4,5,6]])\n",
    "vsplit_array=np.vsplit(array_2d,2)"
   ]
  }
 ],
 "metadata": {
  "kernelspec": {
   "display_name": "Python 3 (ipykernel)",
   "language": "python",
   "name": "python3"
  },
  "language_info": {
   "codemirror_mode": {
    "name": "ipython",
    "version": 3
   },
   "file_extension": ".py",
   "mimetype": "text/x-python",
   "name": "python",
   "nbconvert_exporter": "python",
   "pygments_lexer": "ipython3",
   "version": "3.12.3"
  }
 },
 "nbformat": 4,
 "nbformat_minor": 5
}
