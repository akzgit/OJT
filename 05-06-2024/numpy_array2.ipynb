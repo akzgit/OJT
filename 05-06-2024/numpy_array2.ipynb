{
 "cells": [
  {
   "cell_type": "code",
   "execution_count": 4,
   "id": "0a5df734-e5a9-4cd3-b601-4f78796741b4",
   "metadata": {},
   "outputs": [
    {
     "name": "stdout",
     "output_type": "stream",
     "text": [
      "array 1D : [1 2 3 4 5 6]\n",
      "shape of array1D :  (6,)\n"
     ]
    }
   ],
   "source": [
    "# reshape a 1D array to a 2D array\n",
    "import numpy as np\n",
    "\n",
    "#create  a 1D array\n",
    "array_1D=np.array([1,2,3,4,5,6])\n",
    "print(\"array 1D :\",array_1D)\n",
    "print(\"shape of array1D : \",array_1D.shape)"
   ]
  },
  {
   "cell_type": "code",
   "execution_count": 6,
   "id": "f43e3ec8-bf37-4be7-88b1-0aba7f955b57",
   "metadata": {},
   "outputs": [
    {
     "name": "stdout",
     "output_type": "stream",
     "text": [
      "array 2D :\n",
      " [[1 2 3]\n",
      " [4 5 6]]\n",
      "shape of array2D :  (2, 3)\n"
     ]
    }
   ],
   "source": [
    "#convert the 1D array to 2D\n",
    "array_2D= array_1D.reshape((2,3))\n",
    "print(\"array 2D :\\n\",array_2D)\n",
    "print(\"shape of array2D : \",array_2D.shape)"
   ]
  },
  {
   "cell_type": "code",
   "execution_count": 10,
   "id": "74472196-339b-426b-915d-a21b0ab33f9e",
   "metadata": {},
   "outputs": [
    {
     "name": "stdout",
     "output_type": "stream",
     "text": [
      "[[[ 1  2]\n",
      "  [ 3  4]\n",
      "  [ 5  6]]\n",
      "\n",
      " [[ 7  8]\n",
      "  [ 9 10]\n",
      "  [11 12]]]\n"
     ]
    }
   ],
   "source": [
    "# Example 1D array\n",
    "arr_1d = np.array([1, 2, 3, 4, 5, 6, 7, 8, 9, 10, 11, 12])\n",
    "\n",
    "# Desired shape of the 3D array (for example, 2 x 3 x 2)\n",
    "a, b, c = 2, 3, 2\n",
    "\n",
    "# Reshaping the array\n",
    "arr_3d = arr_1d.reshape(a, b, c)\n",
    "\n",
    "print(arr_3d)"
   ]
  },
  {
   "cell_type": "code",
   "execution_count": 13,
   "id": "51bc253d-40ef-4a25-a46a-edea315c60fe",
   "metadata": {},
   "outputs": [
    {
     "name": "stdout",
     "output_type": "stream",
     "text": [
      "array back to 1D: [1 2 3 4 5 6]\n"
     ]
    }
   ],
   "source": [
    "# reshape a 2D array to a 1D array\n",
    "array_1D_back=array_2D.reshape(6)\n",
    "print(\"array back to 1D:\",array_1D_back)"
   ]
  },
  {
   "cell_type": "code",
   "execution_count": 14,
   "id": "4e4ccacd-e0b0-41f4-adee-960816e483c8",
   "metadata": {},
   "outputs": [
    {
     "name": "stdout",
     "output_type": "stream",
     "text": [
      "array back to 1D: [[1 2 3 4 5 6]]\n"
     ]
    }
   ],
   "source": [
    "# reshape a 2D array to a 1D array\n",
    "array_1D_back=array_2D.reshape(1,6)\n",
    "print(\"array back to 1D:\",array_1D_back)"
   ]
  },
  {
   "cell_type": "code",
   "execution_count": 15,
   "id": "0722a5af-3b36-4806-870b-8679e4668c0a",
   "metadata": {},
   "outputs": [
    {
     "name": "stdout",
     "output_type": "stream",
     "text": [
      "array back to 1D: [1 2 3 4 5 6]\n"
     ]
    }
   ],
   "source": [
    "# reshape a 2D array to a 1D array\n",
    "array_1D_back=array_2D.reshape(-1)\n",
    "print(\"array back to 1D:\",array_1D_back)"
   ]
  },
  {
   "cell_type": "code",
   "execution_count": 17,
   "id": "300b5d53-9131-4c53-a556-42d658661ccb",
   "metadata": {},
   "outputs": [
    {
     "name": "stdout",
     "output_type": "stream",
     "text": [
      "array back to 1D: [ 1  2  3  4  5  6  7  8  9 10 11 12]\n"
     ]
    }
   ],
   "source": [
    "# reshape a 2D array to a 1D array\n",
    "array_1D_back=array_2D.reshape(-1)\n",
    "print(\"array back to 1D:\",array_1D_back)"
   ]
  },
  {
   "cell_type": "code",
   "execution_count": null,
   "id": "72418817-d4bf-4061-a725-b63bbaab7cc8",
   "metadata": {},
   "outputs": [],
   "source": []
  }
 ],
 "metadata": {
  "kernelspec": {
   "display_name": "Python 3 (ipykernel)",
   "language": "python",
   "name": "python3"
  },
  "language_info": {
   "codemirror_mode": {
    "name": "ipython",
    "version": 3
   },
   "file_extension": ".py",
   "mimetype": "text/x-python",
   "name": "python",
   "nbconvert_exporter": "python",
   "pygments_lexer": "ipython3",
   "version": "3.11.7"
  }
 },
 "nbformat": 4,
 "nbformat_minor": 5
}
