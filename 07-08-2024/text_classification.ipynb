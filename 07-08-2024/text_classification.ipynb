{
  "nbformat": 4,
  "nbformat_minor": 0,
  "metadata": {
    "colab": {
      "provenance": []
    },
    "kernelspec": {
      "name": "python3",
      "display_name": "Python 3"
    },
    "language_info": {
      "name": "python"
    }
  },
  "cells": [
    {
      "cell_type": "markdown",
      "source": [
        "Classification of Customer response"
      ],
      "metadata": {
        "id": "vHQ-Km5vqROS"
      }
    },
    {
      "cell_type": "code",
      "source": [
        "#rule base text classification\n",
        "\n",
        "def classify_request(text):\n",
        "  text=text.lower()\n",
        "\n",
        "  if any(keyword in text for keyword in [\"billing\",\"invoice\",\"charge\"]):\n",
        "    return \"Billing Isue\"\n",
        "\n",
        "  elif any(keyword in text for keyword in[\"password\",\"access\",\"login\",\"account\"]):\n",
        "    return \"Technical Support\"\n",
        "\n",
        "  elif any(keyword in text for keyword in[\"hours\",\"time\",\"location\",\"general\"]):\n",
        "    return \"General Support\"\n",
        "\n",
        "  else:\n",
        "    return \"Other Support\"\n",
        "\n",
        "#text sample\n",
        "requests=[\n",
        "    \"my account is blocked\",\n",
        "    \"I need my last billing details\",\n",
        "    \"i need to know the timing of my order\"\n",
        "]\n",
        "\n",
        "for request in requests:\n",
        "  category=classify_request(request)\n",
        "  print(f\"Request: {request}\\nCategory: {category}\\n\")"
      ],
      "metadata": {
        "colab": {
          "base_uri": "https://localhost:8080/"
        },
        "id": "xUY2ZnePqa92",
        "outputId": "6157dac6-7884-4892-cd0e-09244a8ca13a"
      },
      "execution_count": 2,
      "outputs": [
        {
          "output_type": "stream",
          "name": "stdout",
          "text": [
            "Request: my account is blocked\n",
            "Category: Technical Support\n",
            "\n",
            "Request: I need my last billing details\n",
            "Category: Billing Isue\n",
            "\n",
            "Request: i need to know the timing of my order\n",
            "Category: Other Support\n",
            "\n"
          ]
        }
      ]
    }
  ]
}