{
 "cells": [
  {
   "cell_type": "code",
   "execution_count": 36,
   "id": "5008e57e",
   "metadata": {},
   "outputs": [
    {
     "name": "stdout",
     "output_type": "stream",
     "text": [
      "      Name  Age    Place\n",
      "0  kingini   24  koovode\n",
      "1    tuttu   23   mavoor\n",
      "2     ikka   24   punoor\n"
     ]
    }
   ],
   "source": [
    "#dataframes is two dimensional which is in a tabular format\n",
    "\n",
    "import pandas as pd\n",
    "\n",
    "#create a dataframe with a dictionary\n",
    "data={\n",
    "    \"Name\":['kingini','tuttu','ikka'],\n",
    "    \"Age\":[24,23,24],\n",
    "    \"Place\":[\"koovode\",\"mavoor\",\"punoor\"]\n",
    "}\n",
    "\n",
    "#convert the dat into dataframes\n",
    "df=pd.DataFrame(data)\n",
    "print(df)"
   ]
  },
  {
   "cell_type": "code",
   "execution_count": 6,
   "id": "9f529210",
   "metadata": {},
   "outputs": [
    {
     "name": "stdout",
     "output_type": "stream",
     "text": [
      "0    kingini\n",
      "1      tuttu\n",
      "2       ikka\n",
      "Name: Name, dtype: object\n"
     ]
    }
   ],
   "source": [
    "#acces the data\n",
    "\n",
    "print(df['Name'])"
   ]
  },
  {
   "cell_type": "code",
   "execution_count": 9,
   "id": "4785caa0",
   "metadata": {},
   "outputs": [
    {
     "name": "stdout",
     "output_type": "stream",
     "text": [
      "      Name    Place\n",
      "0  kingini  koovode\n",
      "1    tuttu   mavoor\n",
      "2     ikka   punoor\n"
     ]
    }
   ],
   "source": [
    "print(df[['Name','Place']])"
   ]
  },
  {
   "cell_type": "code",
   "execution_count": 27,
   "id": "239d1eb9",
   "metadata": {},
   "outputs": [
    {
     "name": "stdout",
     "output_type": "stream",
     "text": [
      "      Name  Age    Place\n",
      "0  kingini   24  koovode\n",
      "1    tuttu   23   mavoor\n",
      "2     ikka   24   punoor\n"
     ]
    }
   ],
   "source": [
    "print(df[['Name','Age','Place']])"
   ]
  },
  {
   "cell_type": "code",
   "execution_count": 17,
   "id": "531969fb",
   "metadata": {},
   "outputs": [
    {
     "name": "stdout",
     "output_type": "stream",
     "text": [
      "Name       ikka\n",
      "Age          24\n",
      "Place    punoor\n",
      "Name: 2, dtype: object\n"
     ]
    }
   ],
   "source": [
    "#for accessing each row from the dataframe we need to use the inbuild function iloc\n",
    "print(df.iloc[2])"
   ]
  },
  {
   "cell_type": "code",
   "execution_count": 28,
   "id": "ea97bf47",
   "metadata": {},
   "outputs": [
    {
     "name": "stdout",
     "output_type": "stream",
     "text": [
      "      Name  Age    Place\n",
      "0  kingini   24  koovode\n",
      "2     ikka   24   punoor\n"
     ]
    }
   ],
   "source": [
    "print(df[df['Age']>23])"
   ]
  },
  {
   "cell_type": "code",
   "execution_count": 37,
   "id": "3537f2b7",
   "metadata": {},
   "outputs": [
    {
     "name": "stdout",
     "output_type": "stream",
     "text": [
      "0     True\n",
      "1    False\n",
      "2     True\n",
      "Name: Age, dtype: bool\n"
     ]
    }
   ],
   "source": [
    "print(df['Age']>23)"
   ]
  },
  {
   "cell_type": "code",
   "execution_count": 38,
   "id": "f52437ca",
   "metadata": {},
   "outputs": [
    {
     "name": "stdout",
     "output_type": "stream",
     "text": [
      "      Name  Age    Place  Stipend\n",
      "0  kingini   24  koovode    15000\n",
      "1    tuttu   23   mavoor     5000\n",
      "2     ikka   24   punoor     5000\n"
     ]
    }
   ],
   "source": [
    "#add a new column into the dataframe\n",
    "df['Stipend']=[15000,5000,5000]\n",
    "print(df)"
   ]
  },
  {
   "cell_type": "code",
   "execution_count": 39,
   "id": "6a787192",
   "metadata": {},
   "outputs": [
    {
     "name": "stdout",
     "output_type": "stream",
     "text": [
      "      Name    Place  Stipend\n",
      "0  kingini  koovode    15000\n",
      "1    tuttu   mavoor     5000\n",
      "2     ikka   punoor     5000\n"
     ]
    }
   ],
   "source": [
    "#remove a column\n",
    "df=df.drop(columns=['Age'])\n",
    "print(df)"
   ]
  },
  {
   "cell_type": "code",
   "execution_count": 40,
   "id": "ca40cf6e",
   "metadata": {},
   "outputs": [
    {
     "name": "stdout",
     "output_type": "stream",
     "text": [
      "            Stipend\n",
      "count      3.000000\n",
      "mean    8333.333333\n",
      "std     5773.502692\n",
      "min     5000.000000\n",
      "25%     5000.000000\n",
      "50%     5000.000000\n",
      "75%    10000.000000\n",
      "max    15000.000000\n"
     ]
    }
   ],
   "source": [
    "print(df.describe())"
   ]
  },
  {
   "cell_type": "code",
   "execution_count": null,
   "id": "8be1b6eb",
   "metadata": {},
   "outputs": [],
   "source": []
  }
 ],
 "metadata": {
  "kernelspec": {
   "display_name": "Python 3 (ipykernel)",
   "language": "python",
   "name": "python3"
  },
  "language_info": {
   "codemirror_mode": {
    "name": "ipython",
    "version": 3
   },
   "file_extension": ".py",
   "mimetype": "text/x-python",
   "name": "python",
   "nbconvert_exporter": "python",
   "pygments_lexer": "ipython3",
   "version": "3.11.4"
  }
 },
 "nbformat": 4,
 "nbformat_minor": 5
}
