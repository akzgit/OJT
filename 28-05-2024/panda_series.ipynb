{
 "cells": [
  {
   "cell_type": "code",
   "execution_count": 1,
   "id": "02c41388",
   "metadata": {},
   "outputs": [
    {
     "name": "stdout",
     "output_type": "stream",
     "text": [
      "DatetimeIndex(['2023-01-01', '2023-01-02', '2023-01-03', '2023-01-04',\n",
      "               '2023-01-05', '2023-01-06', '2023-01-07', '2023-01-08',\n",
      "               '2023-01-09', '2023-01-10'],\n",
      "              dtype='datetime64[ns]', freq='D')\n"
     ]
    }
   ],
   "source": [
    "import pandas as pd\n",
    "\n",
    "# Create a range of dates\n",
    "date_range = pd.date_range(start='2023-01-01', end='2023-01-10', freq='D')\n",
    "print(date_range)"
   ]
  },
  {
   "cell_type": "code",
   "execution_count": 3,
   "id": "5967695d",
   "metadata": {},
   "outputs": [
    {
     "name": "stdout",
     "output_type": "stream",
     "text": [
      "a    1\n",
      "b    2\n",
      "c    3\n",
      "d    4\n",
      "e    5\n",
      "dtype: int64\n"
     ]
    }
   ],
   "source": [
    "#serires: which one dimentional.\n",
    "# we can create a series with in list, array, dictionaries\n",
    "#each series value have an index value which will start from 0\n",
    "data=[1,2,3,4,5]\n",
    "series = pd.Series(data, index=['a', 'b', 'c', 'd', 'e'])\n",
    "print(series)"
   ]
  },
  {
   "cell_type": "code",
   "execution_count": 18,
   "id": "5cf803fe",
   "metadata": {},
   "outputs": [
    {
     "name": "stdout",
     "output_type": "stream",
     "text": [
      "0    10\n",
      "1     2\n",
      "2     3\n",
      "3    45\n",
      "4    65\n",
      "dtype: int64\n"
     ]
    }
   ],
   "source": [
    "# Creating a Series\n",
    "data=[10,2,3,45,65]\n",
    "series = pd.Series(data)\n",
    "print(series)"
   ]
  },
  {
   "cell_type": "code",
   "execution_count": 7,
   "id": "55994a90",
   "metadata": {},
   "outputs": [
    {
     "name": "stdout",
     "output_type": "stream",
     "text": [
      "x    10\n",
      "y    20\n",
      "z    30\n",
      "dtype: int64\n"
     ]
    }
   ],
   "source": [
    "# Creating a Series from a dictionary\n",
    "data_dict = {'x': 10, 'y': 20, 'z': 30}\n",
    "series_from_dict = pd.Series(data_dict)\n",
    "print(series_from_dict)"
   ]
  },
  {
   "cell_type": "code",
   "execution_count": 8,
   "id": "b300821c",
   "metadata": {},
   "outputs": [
    {
     "name": "stdout",
     "output_type": "stream",
     "text": [
      "4\n"
     ]
    }
   ],
   "source": [
    "#access element seperatly using indexing\n",
    "print(series[3])"
   ]
  },
  {
   "cell_type": "code",
   "execution_count": 14,
   "id": "019716f4",
   "metadata": {},
   "outputs": [
    {
     "name": "stdout",
     "output_type": "stream",
     "text": [
      "0    30\n",
      "1    22\n",
      "2    23\n",
      "3    65\n",
      "4    85\n",
      "dtype: int64\n"
     ]
    }
   ],
   "source": [
    "#arithematical operation\n",
    "series_add=series+10\n",
    "print(series_add )"
   ]
  },
  {
   "cell_type": "code",
   "execution_count": 19,
   "id": "34b64fab",
   "metadata": {},
   "outputs": [
    {
     "name": "stdout",
     "output_type": "stream",
     "text": [
      "3    45\n",
      "4    65\n",
      "dtype: int64\n"
     ]
    }
   ],
   "source": [
    "#filter the elements in the series\n",
    "filtered_series=series[series>20]\n",
    "print(filtered_series)"
   ]
  },
  {
   "cell_type": "code",
   "execution_count": 20,
   "id": "e07d4e52",
   "metadata": {},
   "outputs": [
    {
     "name": "stdout",
     "output_type": "stream",
     "text": [
      "the mean value of the series is 25.0\n"
     ]
    }
   ],
   "source": [
    "#statical method\n",
    "#data [10,2,3,45,65]\n",
    "mean = series.mean()\n",
    "print (f\"the mean value of the series is {mean}\")"
   ]
  },
  {
   "cell_type": "code",
   "execution_count": null,
   "id": "ddb423f4",
   "metadata": {},
   "outputs": [],
   "source": []
  }
 ],
 "metadata": {
  "kernelspec": {
   "display_name": "Python 3 (ipykernel)",
   "language": "python",
   "name": "python3"
  },
  "language_info": {
   "codemirror_mode": {
    "name": "ipython",
    "version": 3
   },
   "file_extension": ".py",
   "mimetype": "text/x-python",
   "name": "python",
   "nbconvert_exporter": "python",
   "pygments_lexer": "ipython3",
   "version": "3.11.4"
  }
 },
 "nbformat": 4,
 "nbformat_minor": 5
}
