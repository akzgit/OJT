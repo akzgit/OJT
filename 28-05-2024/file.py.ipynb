{
 "cells": [
  {
   "cell_type": "code",
   "execution_count": 1,
   "id": "31d03375",
   "metadata": {},
   "outputs": [
    {
     "name": "stdout",
     "output_type": "stream",
     "text": [
      "      Name        Age  Salary\n",
      "0  Kingini     Kannur   45000\n",
      "1    Tuttu    Calicut   35000\n",
      "2   Chinnu  Kolathara   30000\n",
      "3    Dhamu    Calicut   40000\n",
      "4     Ikka     Kovoor   50000\n",
      "5     Angu     Palayi   45000\n",
      "6  Kuttapi   Chevayur   75000\n"
     ]
    }
   ],
   "source": [
    "import pandas as pd\n",
    "\n",
    "#read the csv file into the dataframe\n",
    "df=pd.read_csv('Revisiondata.csv')\n",
    "print(df)"
   ]
  },
  {
   "cell_type": "code",
   "execution_count": 10,
   "id": "5b6b7cc6",
   "metadata": {},
   "outputs": [
    {
     "name": "stdout",
     "output_type": "stream",
     "text": [
      "      Name        Age  Salary\n",
      "0  Kingini     Kannur   45000\n",
      "1    Tuttu    Calicut   35000\n",
      "2   Chinnu  Kolathara   30000\n",
      "3    Dhamu    Calicut   40000\n",
      "4     Ikka     Kovoor   50000\n",
      "5     Angu     Palayi   45000\n",
      "6  Kuttapi   Chevayur   75000\n"
     ]
    }
   ],
   "source": [
    "import pandas as pd\n",
    "\n",
    "#read the csv file into the dataframe\n",
    "df2=pd.read_csv('Revisiondata.csv',\n",
    "                usecols=['Name','Age','Salary'])\n",
    "print(df2)"
   ]
  },
  {
   "cell_type": "code",
   "execution_count": 13,
   "id": "34adf96b",
   "metadata": {},
   "outputs": [
    {
     "name": "stdout",
     "output_type": "stream",
     "text": [
      "      Name  Age   Salary\n",
      "0  Kingini   24  45000.0\n",
      "1    Tuttu   25  35000.0\n",
      "2   Chinnu   26  30000.0\n",
      "3    Dhamu   25  40000.0\n",
      "4     Ikka   23  50000.0\n",
      "5     Angu   23  45000.0\n",
      "6  Kuttapi   23  75000.0\n"
     ]
    }
   ],
   "source": [
    "import pandas as pd\n",
    "\n",
    "#read the csv file into the dataframe\n",
    "df2=pd.read_csv('Revisiondata.csv',\n",
    "                dtype={'Age':int,'Salary':float},\n",
    "                usecols=['Name','Age','Salary'])\n",
    "print(df2)"
   ]
  },
  {
   "cell_type": "code",
   "execution_count": 38,
   "id": "3766b5cd",
   "metadata": {},
   "outputs": [
    {
     "name": "stdout",
     "output_type": "stream",
     "text": [
      "      Name   Age      Place   Salary  emptyColumn\n",
      "0  Kingini  24.0     Kannur  45000.0          NaN\n",
      "1    Tuttu  25.0    Calicut  35000.0          NaN\n",
      "2   Chinnu  26.0  Kolathara  30000.0          NaN\n",
      "3    Dhamu  25.0    Calicut  40000.0          NaN\n",
      "4     Ikka  23.0     Kovoor  50000.0          NaN\n",
      "5     Angu  23.0     Palayi  45000.0          NaN\n",
      "6  Kuttapi  23.0   Chevayur  75000.0          NaN\n",
      "7      NaN   NaN        NaN      NaN          NaN\n"
     ]
    }
   ],
   "source": [
    "import pandas as pd\n",
    "\n",
    "#read the csv file into the dataframe\n",
    "df=pd.read_csv('Revisiondata.csv')\n",
    "print(df)"
   ]
  },
  {
   "cell_type": "code",
   "execution_count": 39,
   "id": "6155d1d2",
   "metadata": {},
   "outputs": [
    {
     "name": "stdout",
     "output_type": "stream",
     "text": [
      "      Name   Age      Place   Salary  emptyColumn\n",
      "0  Kingini  24.0     Kannur  45000.0          NaN\n",
      "1    Tuttu  25.0    Calicut  35000.0          NaN\n",
      "2   Chinnu  26.0  Kolathara  30000.0          NaN\n",
      "3    Dhamu  25.0    Calicut  40000.0          NaN\n",
      "4     Ikka  23.0     Kovoor  50000.0          NaN\n",
      "5     Angu  23.0     Palayi  45000.0          NaN\n",
      "6  Kuttapi  23.0   Chevayur  75000.0          NaN\n"
     ]
    }
   ],
   "source": [
    "\n",
    "#clean the row of empty row\n",
    "df_cleaned_row=df.dropna(how=\"all\")\n",
    "print(df_cleaned_row)\n"
   ]
  },
  {
   "cell_type": "code",
   "execution_count": 30,
   "id": "e5d773cf",
   "metadata": {},
   "outputs": [
    {
     "name": "stdout",
     "output_type": "stream",
     "text": [
      "      Name   Age      Place   Salary\n",
      "0  Kingini  24.0     Kannur  45000.0\n",
      "1    Tuttu  25.0    Calicut  35000.0\n",
      "2   Chinnu  26.0  Kolathara  30000.0\n",
      "3    Dhamu  25.0    Calicut  40000.0\n",
      "4     Ikka  23.0     Kovoor  50000.0\n",
      "5     Angu  23.0     Palayi  45000.0\n",
      "6  Kuttapi  23.0   Chevayur  75000.0\n",
      "7     pipi   NaN        NaN      NaN\n"
     ]
    }
   ],
   "source": [
    "df_cleaned_col=df_cleaned_row.dropna(axis=1,how=\"all\")\n",
    "print(df_cleaned_col)"
   ]
  },
  {
   "cell_type": "code",
   "execution_count": 29,
   "id": "8fca7267",
   "metadata": {},
   "outputs": [
    {
     "name": "stdout",
     "output_type": "stream",
     "text": [
      "      Name   Age      Place   Salary  emptyColumn\n",
      "0  Kingini  24.0     Kannur  45000.0          0.0\n",
      "1    Tuttu  25.0    Calicut  35000.0          0.0\n",
      "2   Chinnu  26.0  Kolathara  30000.0          0.0\n",
      "3    Dhamu  25.0    Calicut  40000.0          0.0\n",
      "4     Ikka  23.0     Kovoor  50000.0          0.0\n",
      "5     Angu  23.0     Palayi  45000.0          0.0\n",
      "6  Kuttapi  23.0   Chevayur  75000.0          0.0\n",
      "7     pipi   0.0          0      0.0          0.0\n"
     ]
    }
   ],
   "source": [
    "df_filled_data=df.fillna(0)\n",
    "print(df_filled_data)"
   ]
  },
  {
   "cell_type": "code",
   "execution_count": null,
   "id": "304d528c",
   "metadata": {},
   "outputs": [],
   "source": []
  }
 ],
 "metadata": {
  "kernelspec": {
   "display_name": "Python 3 (ipykernel)",
   "language": "python",
   "name": "python3"
  },
  "language_info": {
   "codemirror_mode": {
    "name": "ipython",
    "version": 3
   },
   "file_extension": ".py",
   "mimetype": "text/x-python",
   "name": "python",
   "nbconvert_exporter": "python",
   "pygments_lexer": "ipython3",
   "version": "3.11.4"
  }
 },
 "nbformat": 4,
 "nbformat_minor": 5
}
